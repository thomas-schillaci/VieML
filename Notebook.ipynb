{
 "cells": [
  {
   "cell_type": "markdown",
   "metadata": {
    "pycharm": {
     "metadata": false,
     "name": "#%% md\n"
    }
   },
   "source": [
    "# Projet PIST VieML\n",
    "**Video Information Extractor by Machine Learning**\n",
    "\n",
    "*Thomas Schillaci, Léo Vuylsteker, François Le Guernic, Quentin Seite, Yu Teng, Aymeric Varasse, Alejo Velez, Mehdi Rifaï*"
   ]
  },
  {
   "cell_type": "markdown",
   "metadata": {
    "pycharm": {}
   },
   "source": [
    "# 6 Mars :\n",
    "On décide d'utiliser Keras comme libraire de ML car celle-ci rend le développement plus facile, en effet elle propose une API ergonomique qui vient se greffer sur plusieurs librairies au choix (Tensorflow, Pytorch ...).\n",
    "On décide d'utiliser Notebook pour suivre l'évolution du développement.\n",
    "On décide d'utiliser Github pour partager le projet entre nous."
   ]
  },
  {
   "cell_type": "markdown",
   "metadata": {
    "pycharm": {}
   },
   "source": [
    "# 13 Mars :\n",
    "Premier programme de ML capable de simuler une porte ET :"
   ]
  },
  {
   "cell_type": "code",
   "execution_count": null,
   "metadata": {
    "pycharm": {}
   },
   "outputs": [],
   "source": [
    "from keras.models import Sequential\n",
    "from keras.layers import Dense\n",
    "import numpy as np\n",
    "\n",
    "model = Sequential()\n",
    "model.add(Dense(16, activation='relu', input_dim=2))\n",
    "model.add(Dense(1, activation='sigmoid'))\n",
    "model.compile(loss='mean_squared_error', optimizer='adam', metrics=['binary_accuracy'])\n",
    "\n",
    "x = np.array([[0, 0], [0, 1], [1, 0], [1, 1]], \"float32\")\n",
    "y = np.array([[0], [0], [0], [1]], \"float32\")\n",
    "\n",
    "model.fit(x, y, epochs=200)\n",
    "\n",
    "y_predict = model.predict(x).round()\n",
    "print(y_predict)"
   ]
  },
  {
   "cell_type": "markdown",
   "metadata": {
    "pycharm": {}
   },
   "source": [
    "# 20 Mars :\n",
    "Premier réseau neuronal convolutif\n",
    "Collection de datasets : http://deeplearning.net/datasets/\n",
    "\n",
    "Datasets d'objets sous différents angles de vue :\n",
    "- http://www.cs.columbia.edu/CAVE/software/softlib/coil-20.php\\\n",
    "- http://www1.cs.columbia.edu/CAVE/software/softlib/coil-100.php"
   ]
  },
  {
   "cell_type": "code",
   "execution_count": null,
   "metadata": {
    "pycharm": {}
   },
   "outputs": [],
   "source": [
    "from keras.models import Sequential\n",
    "from keras.layers import Conv2D, MaxPooling2D, Flatten, Dense\n",
    "from keras.optimizers import SGD\n",
    "from keras.datasets import mnist\n",
    "from keras.utils import np_utils\n",
    "\n",
    "(x_train, y_train), (x_test, y_test) = mnist.load_data()\n",
    "x_train = x_train.reshape(x_train.shape[0], 1, 28, 28).astype('float32') / 255\n",
    "x_test = x_test.reshape(x_test.shape[0], 1, 28, 28).astype('float32') / 255\n",
    "y_train = np_utils.to_categorical(y_train)\n",
    "y_test = np_utils.to_categorical(y_test)\n",
    "\n",
    "model = Sequential()\n",
    "\n",
    "model.add(Conv2D(32, (5, 5), input_shape=(1, 28, 28), activation=\"relu\", data_format=\"channels_first\"))\n",
    "model.add(MaxPooling2D())\n",
    "model.add(Conv2D(64, (5, 5), activation=\"relu\"))\n",
    "model.add(MaxPooling2D())\n",
    "model.add(Flatten())\n",
    "model.add(Dense(1000, activation=\"relu\"))\n",
    "model.add(Dense(10, activation=\"softmax\"))\n",
    "\n",
    "model.compile(loss=\"categorical_crossentropy\", optimizer=SGD(lr=0.01), metrics=['accuracy'])\n",
    "\n",
    "model.fit(x_train, y_train, batch_size=200, epochs=10, validation_data=(x_test, y_test))\n",
    "\n",
    "print(model.evaluate(x_test, y_test))"
   ]
  },
  {
   "cell_type": "markdown",
   "metadata": {
    "pycharm": {}
   },
   "source": [
    "# 27 Mars :\n",
    "Le groupe ML est séparé en deux équipes en compétition :\n",
    "- Création d'un réseau neuronal convolutif recréant une image à partir de plusieurs angles de vues\n",
    "- Création d'un réseau neuronal d'upscaling d'image"
   ]
  },
  {
   "cell_type": "markdown",
   "metadata": {
    "pycharm": {}
   },
   "source": [
    "# 3 Avril :\n",
    "La première hyperparamétrisation du réseau multi-angle a donné les résultats suivants :\n",
    "- optimizer : Adam\n",
    "- batch size : 2\n",
    "- loss : mean_squared_error\n",
    "- dense size : 1024\n",
    "\t\n",
    "# 1er Mai :\n",
    "Implémentation de l'optimisateur L-BFGS\n",
    "Résultats peu fructueux, cet optimisateur converge très lentement par rapport à Adam :"
   ]
  },
  {
   "cell_type": "code",
   "execution_count": null,
   "metadata": {
    "pycharm": {
     "metadata": false,
     "name": "#%%\n"
    }
   },
   "outputs": [],
   "source": [
    "import numpy as np\n",
    "from scipy.optimize import minimize\n",
    "from keras.models import Sequential\n",
    "from keras.layers.core import Dense\n",
    "\n",
    "X = np.array([[0, 0], [0, 1], [1, 0], [1, 1]])\n",
    "Y = np.array([[0], [0], [0], [1]])\n",
    "\n",
    "model = Sequential()\n",
    "model.add(Dense(4, activation='sigmoid', input_dim=2))\n",
    "model.add(Dense(4, activation='sigmoid', input_dim=2))\n",
    "model.add(Dense(1, activation='sigmoid', input_dim=2))\n",
    "\n",
    "model.compile(\"Adam\", \"binary_crossentropy\", metrics=[\"accuracy\"])\n",
    "# model.fit(X, Y, epochs=3000)\n",
    "\n",
    "index = 0\n",
    "\n",
    "\n",
    "def loss(W):\n",
    "    global model, index\n",
    "    weights = model.get_weights()\n",
    "    convert(weights, W)\n",
    "    index = 0\n",
    "    model.set_weights(weights)\n",
    "    error = model.evaluate(X, Y)[0]\n",
    "    print(error)\n",
    "    return error\n",
    "\n",
    "\n",
    "def convert(weights, W):\n",
    "    global index\n",
    "    for i in range(len(weights)):\n",
    "        e = weights[i]\n",
    "        if isinstance(e, np.ndarray):\n",
    "            convert(e, W)\n",
    "        else:\n",
    "            weights[i] = W[index]\n",
    "            index += 1\n",
    "\n",
    "\n",
    "tmp = np.array(model.get_weights())\n",
    "x0 = []\n",
    "for i in range(tmp.shape[0]):\n",
    "    x0 = np.append(x0, tmp[i].flatten())\n",
    "loss(x0)\n",
    "res = minimize(loss, x0, method='L-BFGS-B', options={'eps': 1e-3, 'disp': True})\n",
    "print(model.predict(X).round())"
   ]
  },
  {
   "cell_type": "markdown",
   "metadata": {
    "pycharm": {
     "metadata": false,
     "name": "#%% md\n"
    }
   },
   "source": [
    "# 8 Mai :\n",
    "Nouvelle hyper-paramétrisation du réseau multi-angle suite à ses améliorations successives :\n",
    "- optimizer: Adam\n",
    "- learning rate: 2.2\n",
    "- batch size: 100\n",
    "- dense size: 3000*1 (une seule couche)\n",
    "- dense activation: relu\n",
    "- dropout rate: 0.005\n",
    "- output activation: linear\n",
    "\n",
    "Avec 120 objets photographiés à 360° avec 72 images, on créé 120 * 34 collections de trois images que l'on met en entrée du réseau multi-angle pour l'entraîner. Pour le tester, on lui donne trois images consécutives d'un objet qu'il ne connaît pas en entrée, format 16x16 pixels (image de gauche sur les captures d'écran ci-dessous) et il génère l'image de droite en format 128x128 :\n",
    "\n",
    "![Upscaling voiture par multi-angle](car.png) \n",
    "![Upscaling tasse par multi-angle](cup.png) "
   ]
  }
 ],
 "metadata": {
  "kernelspec": {
   "display_name": "Python 3",
   "language": "python",
   "name": "python3"
  },
  "language_info": {
   "codemirror_mode": {
    "name": "ipython",
    "version": 3
   },
   "file_extension": ".py",
   "mimetype": "text/x-python",
   "name": "python",
   "nbconvert_exporter": "python",
   "pygments_lexer": "ipython3",
   "version": "3.6.7"
  },
  "stem_cell": {
   "cell_type": "raw",
   "metadata": {
    "pycharm": {
     "metadata": false
    }
   },
   "source": ""
  }
 },
 "nbformat": 4,
 "nbformat_minor": 1
}
