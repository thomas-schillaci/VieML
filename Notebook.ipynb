{
  "cells": [
    {
      "cell_type": "markdown",
      "source": "# Projet PIST VieML\n**Video Information Extractor by Machine Learning**\n\n*Thomas Schillaci, Léo Vuylsteker, François Le Guernic, Quentin Seite, Yu Teng, Aymeric Varasse, Alejo Velez, Mehdi Rifaï*",
      "metadata": {
        "pycharm": {
          "metadata": false,
          "name": "#%% md\n"
        }
      }
    },
    {
      "cell_type": "markdown",
      "metadata": {
        "pycharm": {}
      },
      "source": "# 6 Mars :\n- On décide d\u0027utiliser Keras comme libraire de ML car celle-ci rend le développement plus facile, en effet elle propose une API ergonomique qui vient se greffer sur plusieurs librairies au choix (Tensorflow, Pytorch ...)\n- On décide d\u0027utiliser Notebook pour suivre l\u0027évolution du développement\n- On décide d\u0027utiliser Github pour partager le projet entre nous"
    },
    {
      "cell_type": "markdown",
      "metadata": {
        "pycharm": {}
      },
      "source": "# 13 Mars :\n- Premier programme de ML capable de simuler une porte ET"
    },
    {
      "cell_type": "code",
      "execution_count": null,
      "metadata": {
        "collapsed": false,
        "pycharm": {}
      },
      "outputs": [],
      "source": [
        "from keras.models import Sequential\n",
        "from keras.layers import Dense\n",
        "import numpy as np\n",
        "\n",
        "model \u003d Sequential()\n",
        "model.add(Dense(16, activation\u003d\u0027relu\u0027, input_dim\u003d2))\n",
        "model.add(Dense(1, activation\u003d\u0027sigmoid\u0027))\n",
        "model.compile(loss\u003d\u0027mean_squared_error\u0027, optimizer\u003d\u0027adam\u0027, metrics\u003d[\u0027binary_accuracy\u0027])\n",
        "\n",
        "x \u003d np.array([[0, 0], [0, 1], [1, 0], [1, 1]], \"float32\")\n",
        "y \u003d np.array([[0], [0], [0], [1]], \"float32\")\n",
        "\n",
        "model.fit(x, y, epochs\u003d200)\n",
        "\n",
        "y_predict \u003d model.predict(x).round()\n",
        "print(y_predict)"
      ]
    },
    {
      "cell_type": "markdown",
      "metadata": {
        "pycharm": {}
      },
      "source": "# 20 Mars :\n- Premier réseau neuronal convolutif\n- Collection de datasets : http://deeplearning.net/datasets/\n- Datasets d\u0027objets sous différents angles de vue :\n\t- http://www.cs.columbia.edu/CAVE/software/softlib/coil-20.php\\\n\t- http://www1.cs.columbia.edu/CAVE/software/softlib/coil-100.php"
    },
    {
      "cell_type": "code",
      "execution_count": null,
      "metadata": {
        "pycharm": {}
      },
      "outputs": [],
      "source": [
        "from keras.models import Sequential\n",
        "from keras.layers import Conv2D, MaxPooling2D, Flatten, Dense\n",
        "from keras.optimizers import SGD\n",
        "from keras.datasets import mnist\n",
        "from keras.utils import np_utils\n",
        "\n",
        "(x_train, y_train), (x_test, y_test) \u003d mnist.load_data()\n",
        "x_train \u003d x_train.reshape(x_train.shape[0], 1, 28, 28).astype(\u0027float32\u0027) / 255\n",
        "x_test \u003d x_test.reshape(x_test.shape[0], 1, 28, 28).astype(\u0027float32\u0027) / 255\n",
        "y_train \u003d np_utils.to_categorical(y_train)\n",
        "y_test \u003d np_utils.to_categorical(y_test)\n",
        "\n",
        "model \u003d Sequential()\n",
        "\n",
        "model.add(Conv2D(32, (5, 5), input_shape\u003d(1, 28, 28), activation\u003d\"relu\", data_format\u003d\"channels_first\"))\n",
        "model.add(MaxPooling2D())\n",
        "model.add(Conv2D(64, (5, 5), activation\u003d\"relu\"))\n",
        "model.add(MaxPooling2D())\n",
        "model.add(Flatten())\n",
        "model.add(Dense(1000, activation\u003d\"relu\"))\n",
        "model.add(Dense(10, activation\u003d\"softmax\"))\n",
        "\n",
        "model.compile(loss\u003d\"categorical_crossentropy\", optimizer\u003dSGD(lr\u003d0.01), metrics\u003d[\u0027accuracy\u0027])\n",
        "\n",
        "model.fit(x_train, y_train, batch_size\u003d200, epochs\u003d10, validation_data\u003d(x_test, y_test))\n",
        "\n",
        "print(model.evaluate(x_test, y_test))"
      ]
    },
    {
      "cell_type": "markdown",
      "metadata": {
        "pycharm": {}
      },
      "source": "# 27 Mars :\nLe groupe ML est séparé en deux équipes en compétition\n- Création d\u0027un réseau neuronal convolutif recréant une image à partir de plusieurs angles de vues\n- Création d\u0027un réseau neuronal d\u0027upscaling d\u0027image"
    },
    {
      "cell_type": "markdown",
      "metadata": {
        "pycharm": {}
      },
      "source": "# 3 Avril :\n- La première hyperparamétrisation du réseau multi-angle a donné les résultats suivants :\n\t- optimizer : Adam\n\t- batch size : 2\n\t- loss : mean_squared_error\n\t- dense size : 1024\n\t\n# 1er Mai :\nImplémentation de l\u0027optimisateur L-BFGS\nRésultats peu fructueux, cet optimisateur converge très lentement par rapport à Adam :"
    },
    {
      "cell_type": "code",
      "execution_count": null,
      "outputs": [],
      "source": "import numpy as np\nfrom scipy.optimize import minimize\nfrom keras.models import Sequential\nfrom keras.layers.core import Dense\n\nX \u003d np.array([[0, 0], [0, 1], [1, 0], [1, 1]])\nY \u003d np.array([[0], [0], [0], [1]])\n\nmodel \u003d Sequential()\nmodel.add(Dense(4, activation\u003d\u0027sigmoid\u0027, input_dim\u003d2))\nmodel.add(Dense(4, activation\u003d\u0027sigmoid\u0027, input_dim\u003d2))\nmodel.add(Dense(1, activation\u003d\u0027sigmoid\u0027, input_dim\u003d2))\n\nmodel.compile(\"Adam\", \"binary_crossentropy\", metrics\u003d[\"accuracy\"])\n# model.fit(X, Y, epochs\u003d3000)\n\nindex \u003d 0\n\n\ndef loss(W):\n    global model, index\n    weights \u003d model.get_weights()\n    convert(weights, W)\n    index \u003d 0\n    model.set_weights(weights)\n    error \u003d model.evaluate(X, Y)[0]\n    print(error)\n    return error\n\n\ndef convert(weights, W):\n    global index\n    for i in range(len(weights)):\n        e \u003d weights[i]\n        if isinstance(e, np.ndarray):\n            convert(e, W)\n        else:\n            weights[i] \u003d W[index]\n            index +\u003d 1\n\n\ntmp \u003d np.array(model.get_weights())\nx0 \u003d []\nfor i in range(tmp.shape[0]):\n    x0 \u003d np.append(x0, tmp[i].flatten())\nloss(x0)\nres \u003d minimize(loss, x0, method\u003d\u0027L-BFGS-B\u0027, options\u003d{\u0027eps\u0027: 1e-3, \u0027disp\u0027: True})\nprint(model.predict(X).round())",
      "metadata": {
        "pycharm": {
          "metadata": false,
          "name": "#%%\n"
        }
      }
    },
    {
      "cell_type": "markdown",
      "source": "# 8 Mai :\nNouvelle hyper-paramétrisation du réseau multi-angle suite à ses améliorations successives :\n    - optimizer: \n    - learning rate:\n    - batch size: \n    - dense size:\n    - dropout rate:",
      "metadata": {
        "pycharm": {
          "metadata": false,
          "name": "#%% md\n"
        }
      }
    }
  ],
  "metadata": {
    "kernelspec": {
      "display_name": "Python 3",
      "language": "python",
      "name": "python3"
    },
    "language_info": {
      "codemirror_mode": {
        "name": "ipython",
        "version": 3
      },
      "file_extension": ".py",
      "mimetype": "text/x-python",
      "name": "python",
      "nbconvert_exporter": "python",
      "pygments_lexer": "ipython3",
      "version": "3.7.2"
    },
    "stem_cell": {
      "cell_type": "raw",
      "source": "",
      "metadata": {
        "pycharm": {
          "metadata": false
        }
      }
    }
  },
  "nbformat": 4,
  "nbformat_minor": 1
}