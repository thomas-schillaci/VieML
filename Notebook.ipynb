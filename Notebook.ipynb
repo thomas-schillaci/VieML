{
 "cells": [
  {
   "cell_type": "code",
   "execution_count": 5,
   "metadata": {
    "collapsed": false
   },
   "outputs": [],
   "source": [
    "import keras\n",
    "from keras.models import Sequential\n",
    "model = Sequential()\n",
    "# model.add()\n",
    "from keras.layers import Dense\n",
    "# Dense()\n",
    "from keras import optimizers\n",
    "optimizers.SGD()"
   ]
  },
  {
   "cell_type": "code",
   "execution_count": 6,
   "metadata": {},
   "outputs": [
    {
     "name": "stdout",
     "output_type": "stream",
     "text": [
      "TF 1.13.1\nkeras 2.2.4\n"
     ]
    }
   ],
   "source": [
    "import tensorflow as tf\n",
    "print('TF',tf.__version__)\n",
    "import keras\n",
    "print('keras',keras.__version__)"
   ]
  },
  {
   "cell_type": "code",
   "execution_count": 2,
   "metadata": {
    "collapsed": false
   },
   "outputs": [
    {
     "name": "stdout",
     "output_type": "stream",
     "text": [
      "Collecting nompaquet\n"
     ]
    },
    {
     "name": "stderr",
     "output_type": "stream",
     "text": [
      "  Could not find a version that satisfies the requirement nompaquet (from versions: )\nNo matching distribution found for nompaquet\nYou are using pip version 10.0.1, however version 19.0.3 is available.\nYou should consider upgrading via the 'python -m pip install --upgrade pip' command.\n"
     ]
    }
   ],
   "source": [
    "import sys\n",
    "!{sys.executable} -m pip install nompaquet"
   ]
  },
  {
   "cell_type": "markdown",
   "metadata": {},
   "source": [
    "# Mercredi 6 Mars :\n",
    "- On décide d'utiliser Keras comme libraire de ML car celle-ci rend le développement plus facile, en effet elle propose une API ergonomique qui vient se greffer sur plusieurs librairies au choix (Tensorflow, Pytorch ...)\n",
    "- On décide d'utiliser Notebook pour suivre l'évolution du développement\n",
    "- On décide d'utiliser Github pour partager le projet entre nous"
   ]
  },
  {
   "cell_type": "code",
   "execution_count": null,
   "metadata": {},
   "outputs": [],
   "source": [
    "# Mercredi 13 Mars :\n",
    "- Premier programme de ML capable de simuler une porte ET"
   ]
  },
  {
   "cell_type": "code",
   "execution_count": 1,
   "metadata": {},
   "outputs": [
    {
     "name": "stderr",
     "output_type": "stream",
     "text": [
      "Using TensorFlow backend.\n"
     ]
    },
    {
     "name": "stdout",
     "output_type": "stream",
     "text": [
      "WARNING:tensorflow:From E:\\pyproject\\VieML\\venv\\lib\\site-packages\\tensorflow\\python\\framework\\op_def_library.py:263: colocate_with (from tensorflow.python.framework.ops) is deprecated and will be removed in a future version.\nInstructions for updating:\nColocations handled automatically by placer.\n"
     ]
    },
    {
     "name": "stdout",
     "output_type": "stream",
     "text": [
      "WARNING:tensorflow:From E:\\pyproject\\VieML\\venv\\lib\\site-packages\\tensorflow\\python\\ops\\math_ops.py:3066: to_int32 (from tensorflow.python.ops.math_ops) is deprecated and will be removed in a future version.\nInstructions for updating:\nUse tf.cast instead.\n"
     ]
    },
    {
     "name": "stdout",
     "output_type": "stream",
     "text": [
      "Epoch 1/200\n"
     ]
    },
    {
     "name": "stdout",
     "output_type": "stream",
     "text": [
      "\r4/4 [==============================] - 0s 50ms/step - loss: 0.2726 - binary_accuracy: 0.5000\n"
     ]
    },
    {
     "name": "stdout",
     "output_type": "stream",
     "text": [
      "Epoch 2/200\n\r4/4 [==============================] - 0s 500us/step - loss: 0.2714 - binary_accuracy: 0.5000\n"
     ]
    },
    {
     "name": "stdout",
     "output_type": "stream",
     "text": [
      "Epoch 3/200\n\r4/4 [==============================] - 0s 498us/step - loss: 0.2702 - binary_accuracy: 0.5000\n"
     ]
    },
    {
     "name": "stdout",
     "output_type": "stream",
     "text": [
      "Epoch 4/200\n\r4/4 [==============================] - 0s 502us/step - loss: 0.2691 - binary_accuracy: 0.5000\n"
     ]
    },
    {
     "name": "stdout",
     "output_type": "stream",
     "text": [
      "Epoch 5/200\n\r4/4 [==============================] - 0s 250us/step - loss: 0.2679 - binary_accuracy: 0.5000\n"
     ]
    },
    {
     "name": "stdout",
     "output_type": "stream",
     "text": [
      "Epoch 6/200\n\r4/4 [==============================] - 0s 500us/step - loss: 0.2668 - binary_accuracy: 0.5000\n"
     ]
    },
    {
     "name": "stdout",
     "output_type": "stream",
     "text": [
      "Epoch 7/200\n\r4/4 [==============================] - 0s 498us/step - loss: 0.2657 - binary_accuracy: 0.5000\n"
     ]
    },
    {
     "name": "stdout",
     "output_type": "stream",
     "text": [
      "Epoch 8/200\n\r4/4 [==============================] - 0s 494us/step - loss: 0.2645 - binary_accuracy: 0.5000\n"
     ]
    },
    {
     "name": "stdout",
     "output_type": "stream",
     "text": [
      "Epoch 9/200\n\r4/4 [==============================] - 0s 247us/step - loss: 0.2634 - binary_accuracy: 0.5000\n"
     ]
    },
    {
     "name": "stdout",
     "output_type": "stream",
     "text": [
      "Epoch 10/200\n\r4/4 [==============================] - 0s 249us/step - loss: 0.2622 - binary_accuracy: 0.5000\n"
     ]
    },
    {
     "name": "stdout",
     "output_type": "stream",
     "text": [
      "Epoch 11/200\n\r4/4 [==============================] - 0s 250us/step - loss: 0.2611 - binary_accuracy: 0.5000\n"
     ]
    },
    {
     "name": "stdout",
     "output_type": "stream",
     "text": [
      "Epoch 12/200\n\r4/4 [==============================] - 0s 499us/step - loss: 0.2600 - binary_accuracy: 0.5000\n"
     ]
    },
    {
     "name": "stdout",
     "output_type": "stream",
     "text": [
      "Epoch 13/200\n\r4/4 [==============================] - 0s 250us/step - loss: 0.2589 - binary_accuracy: 0.5000\n"
     ]
    },
    {
     "name": "stdout",
     "output_type": "stream",
     "text": [
      "Epoch 14/200\n\r4/4 [==============================] - 0s 251us/step - loss: 0.2578 - binary_accuracy: 0.5000\n"
     ]
    },
    {
     "name": "stdout",
     "output_type": "stream",
     "text": [
      "Epoch 15/200\n\r4/4 [==============================] - 0s 254us/step - loss: 0.2567 - binary_accuracy: 0.5000\n"
     ]
    },
    {
     "name": "stdout",
     "output_type": "stream",
     "text": [
      "Epoch 16/200\n\r4/4 [==============================] - 0s 496us/step - loss: 0.2557 - binary_accuracy: 0.5000\n"
     ]
    },
    {
     "name": "stdout",
     "output_type": "stream",
     "text": [
      "Epoch 17/200\n\r4/4 [==============================] - 0s 501us/step - loss: 0.2546 - binary_accuracy: 0.5000\n"
     ]
    },
    {
     "name": "stdout",
     "output_type": "stream",
     "text": [
      "Epoch 18/200\n\r4/4 [==============================] - 0s 251us/step - loss: 0.2536 - binary_accuracy: 0.5000\n"
     ]
    },
    {
     "name": "stdout",
     "output_type": "stream",
     "text": [
      "Epoch 19/200\n\r4/4 [==============================] - 0s 499us/step - loss: 0.2526 - binary_accuracy: 0.5000\n"
     ]
    },
    {
     "name": "stdout",
     "output_type": "stream",
     "text": [
      "Epoch 20/200\n\r4/4 [==============================] - 0s 497us/step - loss: 0.2515 - binary_accuracy: 0.5000\n"
     ]
    },
    {
     "name": "stdout",
     "output_type": "stream",
     "text": [
      "Epoch 21/200\n\r4/4 [==============================] - 0s 501us/step - loss: 0.2505 - binary_accuracy: 0.5000\n"
     ]
    },
    {
     "name": "stdout",
     "output_type": "stream",
     "text": [
      "Epoch 22/200\n\r4/4 [==============================] - 0s 501us/step - loss: 0.2495 - binary_accuracy: 0.5000\n"
     ]
    },
    {
     "name": "stdout",
     "output_type": "stream",
     "text": [
      "Epoch 23/200\n\r4/4 [==============================] - 0s 250us/step - loss: 0.2485 - binary_accuracy: 0.5000\n"
     ]
    },
    {
     "name": "stdout",
     "output_type": "stream",
     "text": [
      "Epoch 24/200\n\r4/4 [==============================] - 0s 499us/step - loss: 0.2475 - binary_accuracy: 0.5000\n"
     ]
    },
    {
     "name": "stdout",
     "output_type": "stream",
     "text": [
      "Epoch 25/200\n\r4/4 [==============================] - 0s 500us/step - loss: 0.2465 - binary_accuracy: 0.5000\n"
     ]
    },
    {
     "name": "stdout",
     "output_type": "stream",
     "text": [
      "Epoch 26/200\n\r4/4 [==============================] - 0s 498us/step - loss: 0.2455 - binary_accuracy: 0.5000\n"
     ]
    },
    {
     "name": "stdout",
     "output_type": "stream",
     "text": [
      "Epoch 27/200\n\r4/4 [==============================] - 0s 250us/step - loss: 0.2446 - binary_accuracy: 0.7500\n"
     ]
    },
    {
     "name": "stdout",
     "output_type": "stream",
     "text": [
      "Epoch 28/200\n\r4/4 [==============================] - 0s 251us/step - loss: 0.2436 - binary_accuracy: 0.7500\n"
     ]
    },
    {
     "name": "stdout",
     "output_type": "stream",
     "text": [
      "Epoch 29/200\n\r4/4 [==============================] - 0s 500us/step - loss: 0.2426 - binary_accuracy: 0.7500\n"
     ]
    },
    {
     "name": "stdout",
     "output_type": "stream",
     "text": [
      "Epoch 30/200\n\r4/4 [==============================] - 0s 499us/step - loss: 0.2417 - binary_accuracy: 0.7500\n"
     ]
    },
    {
     "name": "stdout",
     "output_type": "stream",
     "text": [
      "Epoch 31/200\n\r4/4 [==============================] - 0s 501us/step - loss: 0.2408 - binary_accuracy: 0.7500\n"
     ]
    },
    {
     "name": "stdout",
     "output_type": "stream",
     "text": [
      "Epoch 32/200\n\r4/4 [==============================] - 0s 251us/step - loss: 0.2399 - binary_accuracy: 0.7500\n"
     ]
    },
    {
     "name": "stdout",
     "output_type": "stream",
     "text": [
      "Epoch 33/200\n\r4/4 [==============================] - 0s 500us/step - loss: 0.2390 - binary_accuracy: 0.7500\n"
     ]
    },
    {
     "name": "stdout",
     "output_type": "stream",
     "text": [
      "Epoch 34/200\n\r4/4 [==============================] - 0s 250us/step - loss: 0.2381 - binary_accuracy: 0.7500\n"
     ]
    },
    {
     "name": "stdout",
     "output_type": "stream",
     "text": [
      "Epoch 35/200\n\r4/4 [==============================] - 0s 250us/step - loss: 0.2372 - binary_accuracy: 0.7500\n"
     ]
    },
    {
     "name": "stdout",
     "output_type": "stream",
     "text": [
      "Epoch 36/200\n\r4/4 [==============================] - 0s 499us/step - loss: 0.2363 - binary_accuracy: 0.7500\n"
     ]
    },
    {
     "name": "stdout",
     "output_type": "stream",
     "text": [
      "Epoch 37/200\n\r4/4 [==============================] - 0s 500us/step - loss: 0.2354 - binary_accuracy: 0.7500\n"
     ]
    },
    {
     "name": "stdout",
     "output_type": "stream",
     "text": [
      "Epoch 38/200\n\r4/4 [==============================] - 0s 251us/step - loss: 0.2346 - binary_accuracy: 0.7500\n"
     ]
    },
    {
     "name": "stdout",
     "output_type": "stream",
     "text": [
      "Epoch 39/200\n\r4/4 [==============================] - 0s 500us/step - loss: 0.2337 - binary_accuracy: 0.7500\n"
     ]
    },
    {
     "name": "stdout",
     "output_type": "stream",
     "text": [
      "Epoch 40/200\n\r4/4 [==============================] - 0s 500us/step - loss: 0.2329 - binary_accuracy: 0.7500\n"
     ]
    },
    {
     "name": "stdout",
     "output_type": "stream",
     "text": [
      "Epoch 41/200\n\r4/4 [==============================] - 0s 250us/step - loss: 0.2320 - binary_accuracy: 0.7500\n"
     ]
    },
    {
     "name": "stdout",
     "output_type": "stream",
     "text": [
      "Epoch 42/200\n\r4/4 [==============================] - 0s 250us/step - loss: 0.2312 - binary_accuracy: 0.7500\n"
     ]
    },
    {
     "name": "stdout",
     "output_type": "stream",
     "text": [
      "Epoch 43/200\n\r4/4 [==============================] - 0s 500us/step - loss: 0.2304 - binary_accuracy: 0.7500\n"
     ]
    },
    {
     "name": "stdout",
     "output_type": "stream",
     "text": [
      "Epoch 44/200\n\r4/4 [==============================] - 0s 500us/step - loss: 0.2295 - binary_accuracy: 0.7500\n"
     ]
    },
    {
     "name": "stdout",
     "output_type": "stream",
     "text": [
      "Epoch 45/200\n\r4/4 [==============================] - 0s 500us/step - loss: 0.2287 - binary_accuracy: 0.7500\n"
     ]
    },
    {
     "name": "stdout",
     "output_type": "stream",
     "text": [
      "Epoch 46/200\n\r4/4 [==============================] - 0s 501us/step - loss: 0.2279 - binary_accuracy: 0.7500\n"
     ]
    },
    {
     "name": "stdout",
     "output_type": "stream",
     "text": [
      "Epoch 47/200\n\r4/4 [==============================] - 0s 250us/step - loss: 0.2271 - binary_accuracy: 0.7500\n"
     ]
    },
    {
     "name": "stdout",
     "output_type": "stream",
     "text": [
      "Epoch 48/200\n\r4/4 [==============================] - 0s 251us/step - loss: 0.2263 - binary_accuracy: 0.7500\n"
     ]
    },
    {
     "name": "stdout",
     "output_type": "stream",
     "text": [
      "Epoch 49/200\n\r4/4 [==============================] - 0s 499us/step - loss: 0.2255 - binary_accuracy: 0.7500\n"
     ]
    },
    {
     "name": "stdout",
     "output_type": "stream",
     "text": [
      "Epoch 50/200\n\r4/4 [==============================] - 0s 2ms/step - loss: 0.2248 - binary_accuracy: 0.7500\n"
     ]
    },
    {
     "name": "stdout",
     "output_type": "stream",
     "text": [
      "Epoch 51/200\n\r4/4 [==============================] - 0s 1000us/step - loss: 0.2240 - binary_accuracy: 0.7500\n"
     ]
    },
    {
     "name": "stdout",
     "output_type": "stream",
     "text": [
      "Epoch 52/200\n\r4/4 [==============================] - 0s 501us/step - loss: 0.2232 - binary_accuracy: 0.7500\n"
     ]
    },
    {
     "name": "stdout",
     "output_type": "stream",
     "text": [
      "Epoch 53/200\n\r4/4 [==============================] - 0s 500us/step - loss: 0.2225 - binary_accuracy: 0.7500\n"
     ]
    },
    {
     "name": "stdout",
     "output_type": "stream",
     "text": [
      "Epoch 54/200\n\r4/4 [==============================] - 0s 500us/step - loss: 0.2217 - binary_accuracy: 0.7500\n"
     ]
    },
    {
     "name": "stdout",
     "output_type": "stream",
     "text": [
      "Epoch 55/200\n\r4/4 [==============================] - 0s 501us/step - loss: 0.2210 - binary_accuracy: 0.7500\n"
     ]
    },
    {
     "name": "stdout",
     "output_type": "stream",
     "text": [
      "Epoch 56/200\n\r4/4 [==============================] - 0s 747us/step - loss: 0.2203 - binary_accuracy: 0.7500\n"
     ]
    },
    {
     "name": "stdout",
     "output_type": "stream",
     "text": [
      "Epoch 57/200\n\r4/4 [==============================] - 0s 500us/step - loss: 0.2195 - binary_accuracy: 0.7500\n"
     ]
    },
    {
     "name": "stdout",
     "output_type": "stream",
     "text": [
      "Epoch 58/200"
     ]
    },
    {
     "name": "stdout",
     "output_type": "stream",
     "text": [
      "\n\r4/4 [==============================] - 0s 1ms/step - loss: 0.2188 - binary_accuracy: 0.7500\n"
     ]
    },
    {
     "name": "stdout",
     "output_type": "stream",
     "text": [
      "Epoch 59/200\n\r4/4 [==============================] - 0s 501us/step - loss: 0.2181 - binary_accuracy: 0.7500\n"
     ]
    },
    {
     "name": "stdout",
     "output_type": "stream",
     "text": [
      "Epoch 60/200\n\r4/4 [==============================] - 0s 501us/step - loss: 0.2174 - binary_accuracy: 0.7500\n"
     ]
    },
    {
     "name": "stdout",
     "output_type": "stream",
     "text": [
      "Epoch 61/200\n"
     ]
    },
    {
     "name": "stdout",
     "output_type": "stream",
     "text": [
      "\r4/4 [==============================] - 0s 500us/step - loss: 0.2167 - binary_accuracy: 0.7500\n"
     ]
    },
    {
     "name": "stdout",
     "output_type": "stream",
     "text": [
      "Epoch 62/200\n\r4/4 [==============================] - 0s 753us/step - loss: 0.2160 - binary_accuracy: 0.7500\n"
     ]
    },
    {
     "name": "stdout",
     "output_type": "stream",
     "text": [
      "Epoch 63/200\n\r4/4 [==============================] - 0s 250us/step - loss: 0.2153 - binary_accuracy: 0.7500\n"
     ]
    },
    {
     "name": "stdout",
     "output_type": "stream",
     "text": [
      "Epoch 64/200\n\r4/4 [==============================] - 0s 500us/step - loss: 0.2146 - binary_accuracy: 0.7500\n"
     ]
    },
    {
     "name": "stdout",
     "output_type": "stream",
     "text": [
      "Epoch 65/200\n\r4/4 [==============================] - 0s 250us/step - loss: 0.2139 - binary_accuracy: 0.7500\n"
     ]
    },
    {
     "name": "stdout",
     "output_type": "stream",
     "text": [
      "Epoch 66/200\n\r4/4 [==============================] - 0s 250us/step - loss: 0.2132 - binary_accuracy: 0.7500\n"
     ]
    },
    {
     "name": "stdout",
     "output_type": "stream",
     "text": [
      "Epoch 67/200\n\r4/4 [==============================] - 0s 500us/step - loss: 0.2125 - binary_accuracy: 0.7500\n"
     ]
    },
    {
     "name": "stdout",
     "output_type": "stream",
     "text": [
      "Epoch 68/200\n\r4/4 [==============================] - 0s 250us/step - loss: 0.2118 - binary_accuracy: 0.7500\n"
     ]
    },
    {
     "name": "stdout",
     "output_type": "stream",
     "text": [
      "Epoch 69/200\n\r4/4 [==============================] - 0s 251us/step - loss: 0.2112 - binary_accuracy: 0.7500\n"
     ]
    },
    {
     "name": "stdout",
     "output_type": "stream",
     "text": [
      "Epoch 70/200\n\r4/4 [==============================] - 0s 500us/step - loss: 0.2105 - binary_accuracy: 0.7500\n"
     ]
    },
    {
     "name": "stdout",
     "output_type": "stream",
     "text": [
      "Epoch 71/200\n\r4/4 [==============================] - 0s 503us/step - loss: 0.2099 - binary_accuracy: 0.7500\n"
     ]
    },
    {
     "name": "stdout",
     "output_type": "stream",
     "text": [
      "Epoch 72/200\n\r4/4 [==============================] - 0s 250us/step - loss: 0.2092 - binary_accuracy: 0.7500\n"
     ]
    },
    {
     "name": "stdout",
     "output_type": "stream",
     "text": [
      "Epoch 73/200\n\r4/4 [==============================] - 0s 500us/step - loss: 0.2086 - binary_accuracy: 0.7500\n"
     ]
    },
    {
     "name": "stdout",
     "output_type": "stream",
     "text": [
      "Epoch 74/200\n\r4/4 [==============================] - 0s 251us/step - loss: 0.2079 - binary_accuracy: 0.7500\n"
     ]
    },
    {
     "name": "stdout",
     "output_type": "stream",
     "text": [
      "Epoch 75/200\n\r4/4 [==============================] - 0s 250us/step - loss: 0.2073 - binary_accuracy: 0.7500\n"
     ]
    },
    {
     "name": "stdout",
     "output_type": "stream",
     "text": [
      "Epoch 76/200\n\r4/4 [==============================] - 0s 250us/step - loss: 0.2067 - binary_accuracy: 0.7500\n"
     ]
    },
    {
     "name": "stdout",
     "output_type": "stream",
     "text": [
      "Epoch 77/200\n\r4/4 [==============================] - 0s 250us/step - loss: 0.2060 - binary_accuracy: 0.7500\n"
     ]
    },
    {
     "name": "stdout",
     "output_type": "stream",
     "text": [
      "Epoch 78/200\n\r4/4 [==============================] - 0s 501us/step - loss: 0.2054 - binary_accuracy: 0.7500\n"
     ]
    },
    {
     "name": "stdout",
     "output_type": "stream",
     "text": [
      "Epoch 79/200\n\r4/4 [==============================] - 0s 250us/step - loss: 0.2048 - binary_accuracy: 0.7500\n"
     ]
    },
    {
     "name": "stdout",
     "output_type": "stream",
     "text": [
      "Epoch 80/200\n\r4/4 [==============================] - 0s 253us/step - loss: 0.2042 - binary_accuracy: 0.7500\n"
     ]
    },
    {
     "name": "stdout",
     "output_type": "stream",
     "text": [
      "Epoch 81/200\n"
     ]
    },
    {
     "name": "stdout",
     "output_type": "stream",
     "text": [
      "\r4/4 [==============================] - 0s 251us/step - loss: 0.2035 - binary_accuracy: 0.7500\n"
     ]
    },
    {
     "name": "stdout",
     "output_type": "stream",
     "text": [
      "Epoch 82/200\n\r4/4 [==============================] - 0s 250us/step - loss: 0.2029 - binary_accuracy: 0.7500\n"
     ]
    },
    {
     "name": "stdout",
     "output_type": "stream",
     "text": [
      "Epoch 83/200\n\r4/4 [==============================] - 0s 249us/step - loss: 0.2023 - binary_accuracy: 0.7500\n"
     ]
    },
    {
     "name": "stdout",
     "output_type": "stream",
     "text": [
      "Epoch 84/200\n\r4/4 [==============================] - 0s 250us/step - loss: 0.2017 - binary_accuracy: 0.7500\n"
     ]
    },
    {
     "name": "stdout",
     "output_type": "stream",
     "text": [
      "Epoch 85/200\n\r4/4 [==============================] - 0s 250us/step - loss: 0.2011 - binary_accuracy: 0.7500\n"
     ]
    },
    {
     "name": "stdout",
     "output_type": "stream",
     "text": [
      "Epoch 86/200\n"
     ]
    },
    {
     "name": "stdout",
     "output_type": "stream",
     "text": [
      "\r4/4 [==============================] - 0s 250us/step - loss: 0.2005 - binary_accuracy: 0.7500\n"
     ]
    },
    {
     "name": "stdout",
     "output_type": "stream",
     "text": [
      "Epoch 87/200\n\r4/4 [==============================] - 0s 500us/step - loss: 0.1999 - binary_accuracy: 0.7500\n"
     ]
    },
    {
     "name": "stdout",
     "output_type": "stream",
     "text": [
      "Epoch 88/200\n\r4/4 [==============================] - 0s 250us/step - loss: 0.1993 - binary_accuracy: 0.7500\n"
     ]
    },
    {
     "name": "stdout",
     "output_type": "stream",
     "text": [
      "Epoch 89/200\n\r4/4 [==============================] - 0s 250us/step - loss: 0.1987 - binary_accuracy: 0.7500\n"
     ]
    },
    {
     "name": "stdout",
     "output_type": "stream",
     "text": [
      "Epoch 90/200\n\r4/4 [==============================] - 0s 500us/step - loss: 0.1981 - binary_accuracy: 0.7500\n"
     ]
    },
    {
     "name": "stdout",
     "output_type": "stream",
     "text": [
      "Epoch 91/200\n\r4/4 [==============================] - 0s 250us/step - loss: 0.1975 - binary_accuracy: 0.7500\n"
     ]
    },
    {
     "name": "stdout",
     "output_type": "stream",
     "text": [
      "Epoch 92/200\n"
     ]
    },
    {
     "name": "stdout",
     "output_type": "stream",
     "text": [
      "\r4/4 [==============================] - 0s 250us/step - loss: 0.1969 - binary_accuracy: 0.7500\n"
     ]
    },
    {
     "name": "stdout",
     "output_type": "stream",
     "text": [
      "Epoch 93/200\n\r4/4 [==============================] - 0s 250us/step - loss: 0.1964 - binary_accuracy: 0.7500\n"
     ]
    },
    {
     "name": "stdout",
     "output_type": "stream",
     "text": [
      "Epoch 94/200\n\r4/4 [==============================] - 0s 250us/step - loss: 0.1958 - binary_accuracy: 0.7500\n"
     ]
    },
    {
     "name": "stdout",
     "output_type": "stream",
     "text": [
      "Epoch 95/200\n\r4/4 [==============================] - 0s 250us/step - loss: 0.1952 - binary_accuracy: 0.7500\n"
     ]
    },
    {
     "name": "stdout",
     "output_type": "stream",
     "text": [
      "Epoch 96/200\n\r4/4 [==============================] - 0s 250us/step - loss: 0.1946 - binary_accuracy: 0.7500\n"
     ]
    },
    {
     "name": "stdout",
     "output_type": "stream",
     "text": [
      "Epoch 97/200\n"
     ]
    },
    {
     "name": "stdout",
     "output_type": "stream",
     "text": [
      "\r4/4 [==============================] - 0s 500us/step - loss: 0.1940 - binary_accuracy: 0.7500\n"
     ]
    },
    {
     "name": "stdout",
     "output_type": "stream",
     "text": [
      "Epoch 98/200\n\r4/4 [==============================] - 0s 500us/step - loss: 0.1935 - binary_accuracy: 0.7500\n"
     ]
    },
    {
     "name": "stdout",
     "output_type": "stream",
     "text": [
      "Epoch 99/200\n\r4/4 [==============================] - 0s 250us/step - loss: 0.1929 - binary_accuracy: 0.7500\n"
     ]
    },
    {
     "name": "stdout",
     "output_type": "stream",
     "text": [
      "Epoch 100/200\n\r4/4 [==============================] - 0s 249us/step - loss: 0.1923 - binary_accuracy: 0.7500\n"
     ]
    },
    {
     "name": "stdout",
     "output_type": "stream",
     "text": [
      "Epoch 101/200\n\r4/4 [==============================] - 0s 250us/step - loss: 0.1917 - binary_accuracy: 0.7500\n"
     ]
    },
    {
     "name": "stdout",
     "output_type": "stream",
     "text": [
      "Epoch 102/200\n"
     ]
    },
    {
     "name": "stdout",
     "output_type": "stream",
     "text": [
      "\r4/4 [==============================] - 0s 501us/step - loss: 0.1912 - binary_accuracy: 0.7500\n"
     ]
    },
    {
     "name": "stdout",
     "output_type": "stream",
     "text": [
      "Epoch 103/200\n\r4/4 [==============================] - 0s 501us/step - loss: 0.1906 - binary_accuracy: 0.7500\n"
     ]
    },
    {
     "name": "stdout",
     "output_type": "stream",
     "text": [
      "Epoch 104/200\n\r4/4 [==============================] - 0s 500us/step - loss: 0.1900 - binary_accuracy: 0.7500\n"
     ]
    },
    {
     "name": "stdout",
     "output_type": "stream",
     "text": [
      "Epoch 105/200\n\r4/4 [==============================] - 0s 500us/step - loss: 0.1894 - binary_accuracy: 0.7500\n"
     ]
    },
    {
     "name": "stdout",
     "output_type": "stream",
     "text": [
      "Epoch 106/200\n\r4/4 [==============================] - 0s 249us/step - loss: 0.1889 - binary_accuracy: 0.7500\n"
     ]
    },
    {
     "name": "stdout",
     "output_type": "stream",
     "text": [
      "Epoch 107/200\n\r4/4 [==============================] - 0s 250us/step - loss: 0.1883 - binary_accuracy: 0.7500\n"
     ]
    },
    {
     "name": "stdout",
     "output_type": "stream",
     "text": [
      "Epoch 108/200\n"
     ]
    },
    {
     "name": "stdout",
     "output_type": "stream",
     "text": [
      "\r4/4 [==============================] - 0s 251us/step - loss: 0.1877 - binary_accuracy: 0.7500\n"
     ]
    },
    {
     "name": "stdout",
     "output_type": "stream",
     "text": [
      "Epoch 109/200\n\r4/4 [==============================] - 0s 500us/step - loss: 0.1872 - binary_accuracy: 0.7500\n"
     ]
    },
    {
     "name": "stdout",
     "output_type": "stream",
     "text": [
      "Epoch 110/200\n\r4/4 [==============================] - 0s 251us/step - loss: 0.1866 - binary_accuracy: 0.7500\n"
     ]
    },
    {
     "name": "stdout",
     "output_type": "stream",
     "text": [
      "Epoch 111/200\n\r4/4 [==============================] - 0s 750us/step - loss: 0.1860 - binary_accuracy: 0.7500\n"
     ]
    },
    {
     "name": "stdout",
     "output_type": "stream",
     "text": [
      "Epoch 112/200\n\r4/4 [==============================] - 0s 500us/step - loss: 0.1855 - binary_accuracy: 0.7500\n"
     ]
    },
    {
     "name": "stdout",
     "output_type": "stream",
     "text": [
      "Epoch 113/200\n"
     ]
    },
    {
     "name": "stdout",
     "output_type": "stream",
     "text": [
      "\r4/4 [==============================] - 0s 500us/step - loss: 0.1849 - binary_accuracy: 0.7500\n"
     ]
    },
    {
     "name": "stdout",
     "output_type": "stream",
     "text": [
      "Epoch 114/200\n\r4/4 [==============================] - 0s 250us/step - loss: 0.1844 - binary_accuracy: 0.7500\n"
     ]
    },
    {
     "name": "stdout",
     "output_type": "stream",
     "text": [
      "Epoch 115/200\n\r4/4 [==============================] - 0s 250us/step - loss: 0.1838 - binary_accuracy: 0.7500\n"
     ]
    },
    {
     "name": "stdout",
     "output_type": "stream",
     "text": [
      "Epoch 116/200\n\r4/4 [==============================] - 0s 500us/step - loss: 0.1832 - binary_accuracy: 0.7500\n"
     ]
    },
    {
     "name": "stdout",
     "output_type": "stream",
     "text": [
      "Epoch 117/200\n\r4/4 [==============================] - 0s 499us/step - loss: 0.1827 - binary_accuracy: 0.7500\n"
     ]
    },
    {
     "name": "stdout",
     "output_type": "stream",
     "text": [
      "Epoch 118/200\n\r4/4 [==============================] - 0s 251us/step - loss: 0.1821 - binary_accuracy: 0.7500\n"
     ]
    },
    {
     "name": "stdout",
     "output_type": "stream",
     "text": [
      "Epoch 119/200"
     ]
    },
    {
     "name": "stdout",
     "output_type": "stream",
     "text": [
      "\n\r4/4 [==============================] - 0s 250us/step - loss: 0.1816 - binary_accuracy: 0.7500\n"
     ]
    },
    {
     "name": "stdout",
     "output_type": "stream",
     "text": [
      "Epoch 120/200\n\r4/4 [==============================] - 0s 249us/step - loss: 0.1810 - binary_accuracy: 0.7500\n"
     ]
    },
    {
     "name": "stdout",
     "output_type": "stream",
     "text": [
      "Epoch 121/200\n\r4/4 [==============================] - 0s 500us/step - loss: 0.1805 - binary_accuracy: 0.7500\n"
     ]
    },
    {
     "name": "stdout",
     "output_type": "stream",
     "text": [
      "Epoch 122/200\n\r4/4 [==============================] - 0s 500us/step - loss: 0.1799 - binary_accuracy: 0.7500\n"
     ]
    },
    {
     "name": "stdout",
     "output_type": "stream",
     "text": [
      "Epoch 123/200\n\r4/4 [==============================] - 0s 501us/step - loss: 0.1794 - binary_accuracy: 0.7500\n"
     ]
    },
    {
     "name": "stdout",
     "output_type": "stream",
     "text": [
      "Epoch 124/200\n\r4/4 [==============================] - 0s 250us/step - loss: 0.1788 - binary_accuracy: 0.7500\n"
     ]
    },
    {
     "name": "stdout",
     "output_type": "stream",
     "text": [
      "Epoch 125/200\n\r4/4 [==============================] - 0s 500us/step - loss: 0.1782 - binary_accuracy: 0.7500\n"
     ]
    },
    {
     "name": "stdout",
     "output_type": "stream",
     "text": [
      "Epoch 126/200\n\r4/4 [==============================] - 0s 250us/step - loss: 0.1777 - binary_accuracy: 0.7500\n"
     ]
    },
    {
     "name": "stdout",
     "output_type": "stream",
     "text": [
      "Epoch 127/200\n\r4/4 [==============================] - 0s 251us/step - loss: 0.1771 - binary_accuracy: 0.7500\n"
     ]
    },
    {
     "name": "stdout",
     "output_type": "stream",
     "text": [
      "Epoch 128/200\n\r4/4 [==============================] - 0s 500us/step - loss: 0.1766 - binary_accuracy: 0.7500\n"
     ]
    },
    {
     "name": "stdout",
     "output_type": "stream",
     "text": [
      "Epoch 129/200\n\r4/4 [==============================] - 0s 250us/step - loss: 0.1760 - binary_accuracy: 0.7500\n"
     ]
    },
    {
     "name": "stdout",
     "output_type": "stream",
     "text": [
      "Epoch 130/200\n\r4/4 [==============================] - 0s 499us/step - loss: 0.1755 - binary_accuracy: 0.7500\n"
     ]
    },
    {
     "name": "stdout",
     "output_type": "stream",
     "text": [
      "Epoch 131/200\n\r4/4 [==============================] - 0s 251us/step - loss: 0.1749 - binary_accuracy: 0.7500\n"
     ]
    },
    {
     "name": "stdout",
     "output_type": "stream",
     "text": [
      "Epoch 132/200\n\r4/4 [==============================] - 0s 250us/step - loss: 0.1744 - binary_accuracy: 0.7500\n"
     ]
    },
    {
     "name": "stdout",
     "output_type": "stream",
     "text": [
      "Epoch 133/200\n\r4/4 [==============================] - 0s 500us/step - loss: 0.1738 - binary_accuracy: 0.7500\n"
     ]
    },
    {
     "name": "stdout",
     "output_type": "stream",
     "text": [
      "Epoch 134/200\n\r4/4 [==============================] - 0s 501us/step - loss: 0.1733 - binary_accuracy: 0.7500\n"
     ]
    },
    {
     "name": "stdout",
     "output_type": "stream",
     "text": [
      "Epoch 135/200\n\r4/4 [==============================] - 0s 250us/step - loss: 0.1727 - binary_accuracy: 0.7500\n"
     ]
    },
    {
     "name": "stdout",
     "output_type": "stream",
     "text": [
      "Epoch 136/200\n\r4/4 [==============================] - 0s 500us/step - loss: 0.1721 - binary_accuracy: 0.7500\n"
     ]
    },
    {
     "name": "stdout",
     "output_type": "stream",
     "text": [
      "Epoch 137/200\n"
     ]
    },
    {
     "name": "stdout",
     "output_type": "stream",
     "text": [
      "\r4/4 [==============================] - 0s 250us/step - loss: 0.1716 - binary_accuracy: 0.7500\n"
     ]
    },
    {
     "name": "stdout",
     "output_type": "stream",
     "text": [
      "Epoch 138/200\n\r4/4 [==============================] - 0s 500us/step - loss: 0.1710 - binary_accuracy: 0.7500\n"
     ]
    },
    {
     "name": "stdout",
     "output_type": "stream",
     "text": [
      "Epoch 139/200\n\r4/4 [==============================] - 0s 250us/step - loss: 0.1705 - binary_accuracy: 0.7500\n"
     ]
    },
    {
     "name": "stdout",
     "output_type": "stream",
     "text": [
      "Epoch 140/200\n\r4/4 [==============================] - 0s 250us/step - loss: 0.1699 - binary_accuracy: 0.7500\n"
     ]
    },
    {
     "name": "stdout",
     "output_type": "stream",
     "text": [
      "Epoch 141/200\n\r4/4 [==============================] - 0s 250us/step - loss: 0.1694 - binary_accuracy: 0.7500\n"
     ]
    },
    {
     "name": "stdout",
     "output_type": "stream",
     "text": [
      "Epoch 142/200\n"
     ]
    },
    {
     "name": "stdout",
     "output_type": "stream",
     "text": [
      "\r4/4 [==============================] - 0s 250us/step - loss: 0.1689 - binary_accuracy: 0.7500\n"
     ]
    },
    {
     "name": "stdout",
     "output_type": "stream",
     "text": [
      "Epoch 143/200\n\r4/4 [==============================] - 0s 251us/step - loss: 0.1683 - binary_accuracy: 0.7500\n"
     ]
    },
    {
     "name": "stdout",
     "output_type": "stream",
     "text": [
      "Epoch 144/200\n\r4/4 [==============================] - 0s 250us/step - loss: 0.1678 - binary_accuracy: 0.7500\n"
     ]
    },
    {
     "name": "stdout",
     "output_type": "stream",
     "text": [
      "Epoch 145/200\n\r4/4 [==============================] - 0s 251us/step - loss: 0.1672 - binary_accuracy: 0.7500\n"
     ]
    },
    {
     "name": "stdout",
     "output_type": "stream",
     "text": [
      "Epoch 146/200\n\r4/4 [==============================] - 0s 250us/step - loss: 0.1667 - binary_accuracy: 0.7500\n"
     ]
    },
    {
     "name": "stdout",
     "output_type": "stream",
     "text": [
      "Epoch 147/200\n"
     ]
    },
    {
     "name": "stdout",
     "output_type": "stream",
     "text": [
      "\r4/4 [==============================] - 0s 251us/step - loss: 0.1661 - binary_accuracy: 0.7500\n"
     ]
    },
    {
     "name": "stdout",
     "output_type": "stream",
     "text": [
      "Epoch 148/200\n\r4/4 [==============================] - 0s 500us/step - loss: 0.1656 - binary_accuracy: 1.0000\n"
     ]
    },
    {
     "name": "stdout",
     "output_type": "stream",
     "text": [
      "Epoch 149/200\n\r4/4 [==============================] - 0s 251us/step - loss: 0.1650 - binary_accuracy: 1.0000\n"
     ]
    },
    {
     "name": "stdout",
     "output_type": "stream",
     "text": [
      "Epoch 150/200\n\r4/4 [==============================] - 0s 500us/step - loss: 0.1645 - binary_accuracy: 1.0000\n"
     ]
    },
    {
     "name": "stdout",
     "output_type": "stream",
     "text": [
      "Epoch 151/200\n\r4/4 [==============================] - 0s 250us/step - loss: 0.1639 - binary_accuracy: 1.0000\n"
     ]
    },
    {
     "name": "stdout",
     "output_type": "stream",
     "text": [
      "Epoch 152/200\n\r"
     ]
    },
    {
     "name": "stdout",
     "output_type": "stream",
     "text": [
      "4/4 [==============================] - 0s 250us/step - loss: 0.1634 - binary_accuracy: 1.0000\n"
     ]
    },
    {
     "name": "stdout",
     "output_type": "stream",
     "text": [
      "Epoch 153/200\n\r4/4 [==============================] - 0s 250us/step - loss: 0.1628 - binary_accuracy: 1.0000\n"
     ]
    },
    {
     "name": "stdout",
     "output_type": "stream",
     "text": [
      "Epoch 154/200\n\r4/4 [==============================] - 0s 250us/step - loss: 0.1623 - binary_accuracy: 1.0000\n"
     ]
    },
    {
     "name": "stdout",
     "output_type": "stream",
     "text": [
      "Epoch 155/200\n\r4/4 [==============================] - 0s 251us/step - loss: 0.1617 - binary_accuracy: 1.0000\n"
     ]
    },
    {
     "name": "stdout",
     "output_type": "stream",
     "text": [
      "Epoch 156/200\n\r4/4 [==============================] - 0s 500us/step - loss: 0.1612 - binary_accuracy: 1.0000\n"
     ]
    },
    {
     "name": "stdout",
     "output_type": "stream",
     "text": [
      "Epoch 157/200"
     ]
    },
    {
     "name": "stdout",
     "output_type": "stream",
     "text": [
      "\n\r4/4 [==============================] - 0s 501us/step - loss: 0.1606 - binary_accuracy: 1.0000\n"
     ]
    },
    {
     "name": "stdout",
     "output_type": "stream",
     "text": [
      "Epoch 158/200\n\r4/4 [==============================] - 0s 250us/step - loss: 0.1601 - binary_accuracy: 1.0000\n"
     ]
    },
    {
     "name": "stdout",
     "output_type": "stream",
     "text": [
      "Epoch 159/200\n\r4/4 [==============================] - 0s 500us/step - loss: 0.1595 - binary_accuracy: 1.0000\n"
     ]
    },
    {
     "name": "stdout",
     "output_type": "stream",
     "text": [
      "Epoch 160/200\n\r4/4 [==============================] - 0s 250us/step - loss: 0.1590 - binary_accuracy: 1.0000\n"
     ]
    },
    {
     "name": "stdout",
     "output_type": "stream",
     "text": [
      "Epoch 161/200\n\r4/4 [==============================] - 0s 250us/step - loss: 0.1584 - binary_accuracy: 1.0000\n"
     ]
    },
    {
     "name": "stdout",
     "output_type": "stream",
     "text": [
      "Epoch 162/200\n"
     ]
    },
    {
     "name": "stdout",
     "output_type": "stream",
     "text": [
      "\r4/4 [==============================] - 0s 500us/step - loss: 0.1579 - binary_accuracy: 1.0000\n"
     ]
    },
    {
     "name": "stdout",
     "output_type": "stream",
     "text": [
      "Epoch 163/200\n\r4/4 [==============================] - 0s 750us/step - loss: 0.1573 - binary_accuracy: 1.0000\n"
     ]
    },
    {
     "name": "stdout",
     "output_type": "stream",
     "text": [
      "Epoch 164/200\n\r4/4 [==============================] - 0s 250us/step - loss: 0.1568 - binary_accuracy: 1.0000\n"
     ]
    },
    {
     "name": "stdout",
     "output_type": "stream",
     "text": [
      "Epoch 165/200\n\r4/4 [==============================] - 0s 500us/step - loss: 0.1562 - binary_accuracy: 1.0000\n"
     ]
    },
    {
     "name": "stdout",
     "output_type": "stream",
     "text": [
      "Epoch 166/200\n\r4/4 [==============================] - 0s 500us/step - loss: 0.1557 - binary_accuracy: 1.0000\n"
     ]
    },
    {
     "name": "stdout",
     "output_type": "stream",
     "text": [
      "Epoch 167/200\n\r4/4 [==============================] - 0s 250us/step - loss: 0.1551 - binary_accuracy: 1.0000\n"
     ]
    },
    {
     "name": "stdout",
     "output_type": "stream",
     "text": [
      "Epoch 168/200\n\r4/4 [==============================] - 0s 251us/step - loss: 0.1545 - binary_accuracy: 1.0000\n"
     ]
    },
    {
     "name": "stdout",
     "output_type": "stream",
     "text": [
      "Epoch 169/200\n\r4/4 [==============================] - 0s 251us/step - loss: 0.1540 - binary_accuracy: 1.0000\n"
     ]
    },
    {
     "name": "stdout",
     "output_type": "stream",
     "text": [
      "Epoch 170/200\n\r4/4 [==============================] - 0s 500us/step - loss: 0.1535 - binary_accuracy: 1.0000\n"
     ]
    },
    {
     "name": "stdout",
     "output_type": "stream",
     "text": [
      "Epoch 171/200\n\r4/4 [==============================] - 0s 499us/step - loss: 0.1529 - binary_accuracy: 1.0000\n"
     ]
    },
    {
     "name": "stdout",
     "output_type": "stream",
     "text": [
      "Epoch 172/200\n"
     ]
    },
    {
     "name": "stdout",
     "output_type": "stream",
     "text": [
      "\r4/4 [==============================] - 0s 500us/step - loss: 0.1524 - binary_accuracy: 1.0000\n"
     ]
    },
    {
     "name": "stdout",
     "output_type": "stream",
     "text": [
      "Epoch 173/200\n\r4/4 [==============================] - 0s 500us/step - loss: 0.1519 - binary_accuracy: 1.0000\n"
     ]
    },
    {
     "name": "stdout",
     "output_type": "stream",
     "text": [
      "Epoch 174/200\n\r4/4 [==============================] - 0s 250us/step - loss: 0.1513 - binary_accuracy: 1.0000\n"
     ]
    },
    {
     "name": "stdout",
     "output_type": "stream",
     "text": [
      "Epoch 175/200\n\r4/4 [==============================] - 0s 252us/step - loss: 0.1508 - binary_accuracy: 1.0000\n"
     ]
    },
    {
     "name": "stdout",
     "output_type": "stream",
     "text": [
      "Epoch 176/200\n\r4/4 [==============================] - 0s 251us/step - loss: 0.1502 - binary_accuracy: 1.0000\n"
     ]
    },
    {
     "name": "stdout",
     "output_type": "stream",
     "text": [
      "Epoch 177/200\n\r4/4 [==============================] - 0s 501us/step - loss: 0.1496 - binary_accuracy: 1.0000\n"
     ]
    },
    {
     "name": "stdout",
     "output_type": "stream",
     "text": [
      "Epoch 178/200\n\r4/4 [==============================] - 0s 250us/step - loss: 0.1491 - binary_accuracy: 1.0000\n"
     ]
    },
    {
     "name": "stdout",
     "output_type": "stream",
     "text": [
      "Epoch 179/200\n\r4/4 [==============================] - 0s 251us/step - loss: 0.1485 - binary_accuracy: 1.0000\n"
     ]
    },
    {
     "name": "stdout",
     "output_type": "stream",
     "text": [
      "Epoch 180/200\n\r4/4 [==============================] - 0s 501us/step - loss: 0.1480 - binary_accuracy: 1.0000\n"
     ]
    },
    {
     "name": "stdout",
     "output_type": "stream",
     "text": [
      "Epoch 181/200\n\r4/4 [==============================] - 0s 251us/step - loss: 0.1475 - binary_accuracy: 1.0000\n"
     ]
    },
    {
     "name": "stdout",
     "output_type": "stream",
     "text": [
      "Epoch 182/200\n\r4/4 [==============================] - 0s 250us/step - loss: 0.1469 - binary_accuracy: 1.0000\n"
     ]
    },
    {
     "name": "stdout",
     "output_type": "stream",
     "text": [
      "Epoch 183/200\n\r4/4 [==============================] - 0s 250us/step - loss: 0.1464 - binary_accuracy: 1.0000\n"
     ]
    },
    {
     "name": "stdout",
     "output_type": "stream",
     "text": [
      "Epoch 184/200\n\r4/4 [==============================] - 0s 252us/step - loss: 0.1458 - binary_accuracy: 1.0000\n"
     ]
    },
    {
     "name": "stdout",
     "output_type": "stream",
     "text": [
      "Epoch 185/200\n\r4/4 [==============================] - 0s 500us/step - loss: 0.1453 - binary_accuracy: 1.0000\n"
     ]
    },
    {
     "name": "stdout",
     "output_type": "stream",
     "text": [
      "Epoch 186/200\n\r4/4 [==============================] - 0s 250us/step - loss: 0.1447 - binary_accuracy: 1.0000\n"
     ]
    },
    {
     "name": "stdout",
     "output_type": "stream",
     "text": [
      "Epoch 187/200\n\r4/4 [==============================] - 0s 250us/step - loss: 0.1442 - binary_accuracy: 1.0000\n"
     ]
    },
    {
     "name": "stdout",
     "output_type": "stream",
     "text": [
      "Epoch 188/200\n\r4/4 [==============================] - 0s 249us/step - loss: 0.1436 - binary_accuracy: 1.0000\n"
     ]
    },
    {
     "name": "stdout",
     "output_type": "stream",
     "text": [
      "Epoch 189/200\n"
     ]
    },
    {
     "name": "stdout",
     "output_type": "stream",
     "text": [
      "\r4/4 [==============================] - 0s 501us/step - loss: 0.1431 - binary_accuracy: 1.0000\n"
     ]
    },
    {
     "name": "stdout",
     "output_type": "stream",
     "text": [
      "Epoch 190/200\n\r4/4 [==============================] - 0s 497us/step - loss: 0.1426 - binary_accuracy: 1.0000\n"
     ]
    },
    {
     "name": "stdout",
     "output_type": "stream",
     "text": [
      "Epoch 191/200\n\r4/4 [==============================] - 0s 499us/step - loss: 0.1420 - binary_accuracy: 1.0000\n"
     ]
    },
    {
     "name": "stdout",
     "output_type": "stream",
     "text": [
      "Epoch 192/200\n\r4/4 [==============================] - 0s 250us/step - loss: 0.1414 - binary_accuracy: 1.0000\n"
     ]
    },
    {
     "name": "stdout",
     "output_type": "stream",
     "text": [
      "Epoch 193/200\n\r4/4 [==============================] - 0s 251us/step - loss: 0.1409 - binary_accuracy: 1.0000\n"
     ]
    },
    {
     "name": "stdout",
     "output_type": "stream",
     "text": [
      "Epoch 194/200"
     ]
    },
    {
     "name": "stdout",
     "output_type": "stream",
     "text": [
      "\n\r4/4 [==============================] - 0s 500us/step - loss: 0.1404 - binary_accuracy: 1.0000\n"
     ]
    },
    {
     "name": "stdout",
     "output_type": "stream",
     "text": [
      "Epoch 195/200\n\r4/4 [==============================] - 0s 250us/step - loss: 0.1398 - binary_accuracy: 1.0000\n"
     ]
    },
    {
     "name": "stdout",
     "output_type": "stream",
     "text": [
      "Epoch 196/200\n\r4/4 [==============================] - 0s 500us/step - loss: 0.1393 - binary_accuracy: 1.0000\n"
     ]
    },
    {
     "name": "stdout",
     "output_type": "stream",
     "text": [
      "Epoch 197/200\n\r4/4 [==============================] - 0s 252us/step - loss: 0.1387 - binary_accuracy: 1.0000\n"
     ]
    },
    {
     "name": "stdout",
     "output_type": "stream",
     "text": [
      "Epoch 198/200\n\r4/4 [==============================] - 0s 251us/step - loss: 0.1382 - binary_accuracy: 1.0000\n"
     ]
    },
    {
     "name": "stdout",
     "output_type": "stream",
     "text": [
      "Epoch 199/200\n"
     ]
    },
    {
     "name": "stdout",
     "output_type": "stream",
     "text": [
      "\r4/4 [==============================] - 0s 250us/step - loss: 0.1377 - binary_accuracy: 1.0000\n"
     ]
    },
    {
     "name": "stdout",
     "output_type": "stream",
     "text": [
      "Epoch 200/200\n\r4/4 [==============================] - 0s 500us/step - loss: 0.1371 - binary_accuracy: 1.0000\n"
     ]
    },
    {
     "name": "stdout",
     "output_type": "stream",
     "text": [
      "[[0.]\n [0.]\n [0.]\n [1.]]"
     ]
    },
    {
     "name": "stdout",
     "output_type": "stream",
     "text": [
      "\n"
     ]
    }
   ],
   "source": [
    "from keras.models import Sequential\n",
    "from keras.layers import Dense\n",
    "import numpy as np\n",
    "\n",
    "model = Sequential()\n",
    "model.add(Dense(16, activation='relu', input_dim=2))\n",
    "model.add(Dense(1, activation='sigmoid'))\n",
    "model.compile(loss='mean_squared_error', optimizer='adam', metrics=['binary_accuracy'])\n",
    "\n",
    "x = np.array([[0, 0], [0, 1], [1, 0], [1, 1]], \"float32\")\n",
    "y = np.array([[0], [0], [0], [1]], \"float32\")\n",
    "\n",
    "model.fit(x, y, epochs=200)\n",
    "\n",
    "y_predict = model.predict(x).round()\n",
    "print(y_predict)"
   ]
  },
  {
   "cell_type": "markdown",
   "metadata": {},
   "source": [
    "# Mercredi 20 Mars :\n",
    "- Premier réseau neuronal convolutif"
   ]
  },
  {
   "cell_type": "code",
   "execution_count": null,
   "metadata": {},
   "outputs": [],
   "source": [
    "from keras.models import Sequential\n",
    "from keras.layers import Conv2D, MaxPooling2D, Flatten, Dense\n",
    "from keras.optimizers import SGD\n",
    "from keras.datasets import mnist\n",
    "from keras.utils import np_utils\n",
    "\n",
    "(x_train, y_train), (x_test, y_test) = mnist.load_data()\n",
    "x_train = x_train.reshape(x_train.shape[0], 1, 28, 28).astype('float32') / 255\n",
    "x_test = x_test.reshape(x_test.shape[0], 1, 28, 28).astype('float32') / 255\n",
    "y_train = np_utils.to_categorical(y_train)\n",
    "y_test = np_utils.to_categorical(y_test)\n",
    "\n",
    "model = Sequential()\n",
    "\n",
    "model.add(Conv2D(32, (5, 5), input_shape=(1, 28, 28), activation=\"relu\", data_format=\"channels_first\"))\n",
    "model.add(MaxPooling2D())\n",
    "model.add(Conv2D(64, (5, 5), activation=\"relu\"))\n",
    "model.add(MaxPooling2D())\n",
    "model.add(Flatten())\n",
    "model.add(Dense(1000, activation=\"relu\"))\n",
    "model.add(Dense(10, activation=\"softmax\"))\n",
    "\n",
    "model.compile(loss=\"categorical_crossentropy\", optimizer=SGD(lr=0.01), metrics=['accuracy'])\n",
    "\n",
    "model.fit(x_train, y_train, batch_size=200, epochs=10, validation_data=(x_test, y_test))\n",
    "\n",
    "print(model.evaluate(x_test, y_test))"
   ]
  },
  {
   "cell_type": "markdown",
   "metadata": {},
   "source": [
    "# Mercredi 27 Mars :\n",
    "Le groupe ML est séparé en deux équipes en compétition\n",
    "- Création d'un réseau neuronal convolutif recréant une image à partir de plusieurs angles de vues\n",
    "- Création d'un réseau neuronal d'upscaling d'image"
   ]
  },
  {
   "cell_type": "markdown",
   "metadata": {},
   "source": [
    "# Mercredi 3 Avril :\n",
    "- La première hyperparamétrisation du réseau multi-angle a donné les résultats suivants :\n",
    "- Implémentation de l'optimisateur L-BFGS\n",
    "- Implémentation d'une fonction de perte personnalisée"
   ]
  },
  {
   "cell_type": "code",
   "execution_count": null,
   "metadata": {},
   "outputs": [],
   "source": []
  }
 ],
 "metadata": {
  "kernelspec": {
   "display_name": "Python 3",
   "language": "python",
   "name": "python3"
  },
  "language_info": {
   "codemirror_mode": {
    "name": "ipython",
    "version": 3
   },
   "file_extension": ".py",
   "mimetype": "text/x-python",
   "name": "python",
   "nbconvert_exporter": "python",
   "pygments_lexer": "ipython3",
   "version": "3.7.2"
  }
 },
 "nbformat": 4,
 "nbformat_minor": 1
}
