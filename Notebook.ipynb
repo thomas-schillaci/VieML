{
 "cells": [
  {
   "cell_type": "code",
   "execution_count": null,
   "metadata": {
    "collapsed": false
   },
   "outputs": [],
   "source": [
    "import sys\n",
    "!{sys.executable} -m pip install nompaquet"
   ]
  },
  {
   "cell_type": "markdown",
   "metadata": {},
   "source": [
    "# Mercredi 6 Mars :\n",
    "- On décide d'utiliser Keras comme libraire de ML car celle-ci rend le développement plus facile, en effet elle propose une API ergonomique qui vient se greffer sur plusieurs librairies au choix (Tensorflow, Pytorch ...)\n",
    "- On décide d'utiliser Notebook pour suivre l'évolution du développement\n",
    "- On décide d'utiliser Github pour partager le projet entre nous"
   ]
  },
  {
   "cell_type": "markdown",
   "metadata": {},
   "source": [
    "# Mercredi 13 Mars :\n",
    "- Premier programme de ML capable de simuler une porte ET"
   ]
  },
  {
   "cell_type": "code",
   "execution_count": null,
   "metadata": {
    "collapsed": false
   },
   "outputs": [],
   "source": [
    "from keras.models import Sequential\n",
    "from keras.layers import Dense\n",
    "import numpy as np\n",
    "\n",
    "model = Sequential()\n",
    "model.add(Dense(16, activation='relu', input_dim=2))\n",
    "model.add(Dense(1, activation='sigmoid'))\n",
    "model.compile(loss='mean_squared_error', optimizer='adam', metrics=['binary_accuracy'])\n",
    "\n",
    "x = np.array([[0, 0], [0, 1], [1, 0], [1, 1]], \"float32\")\n",
    "y = np.array([[0], [0], [0], [1]], \"float32\")\n",
    "\n",
    "model.fit(x, y, epochs=200)\n",
    "\n",
    "y_predict = model.predict(x).round()\n",
    "print(y_predict)"
   ]
  },
  {
   "cell_type": "markdown",
   "metadata": {},
   "source": [
    "# Mercredi 20 Mars :\n",
    "- Premier réseau neuronal convolutif\n",
    "- Collection de datasets : http://deeplearning.net/datasets/\n",
    "- Datasets d'objets sous différents angles de vue :\n",
    "\t- http://www.cs.columbia.edu/CAVE/software/softlib/coil-20.php\\\n",
    "\t- http://www1.cs.columbia.edu/CAVE/software/softlib/coil-100.php"
   ]
  },
  {
   "cell_type": "code",
   "execution_count": null,
   "metadata": {},
   "outputs": [],
   "source": [
    "from keras.models import Sequential\n",
    "from keras.layers import Conv2D, MaxPooling2D, Flatten, Dense\n",
    "from keras.optimizers import SGD\n",
    "from keras.datasets import mnist\n",
    "from keras.utils import np_utils\n",
    "\n",
    "(x_train, y_train), (x_test, y_test) = mnist.load_data()\n",
    "x_train = x_train.reshape(x_train.shape[0], 1, 28, 28).astype('float32') / 255\n",
    "x_test = x_test.reshape(x_test.shape[0], 1, 28, 28).astype('float32') / 255\n",
    "y_train = np_utils.to_categorical(y_train)\n",
    "y_test = np_utils.to_categorical(y_test)\n",
    "\n",
    "model = Sequential()\n",
    "\n",
    "model.add(Conv2D(32, (5, 5), input_shape=(1, 28, 28), activation=\"relu\", data_format=\"channels_first\"))\n",
    "model.add(MaxPooling2D())\n",
    "model.add(Conv2D(64, (5, 5), activation=\"relu\"))\n",
    "model.add(MaxPooling2D())\n",
    "model.add(Flatten())\n",
    "model.add(Dense(1000, activation=\"relu\"))\n",
    "model.add(Dense(10, activation=\"softmax\"))\n",
    "\n",
    "model.compile(loss=\"categorical_crossentropy\", optimizer=SGD(lr=0.01), metrics=['accuracy'])\n",
    "\n",
    "model.fit(x_train, y_train, batch_size=200, epochs=10, validation_data=(x_test, y_test))\n",
    "\n",
    "print(model.evaluate(x_test, y_test))"
   ]
  },
  {
   "cell_type": "markdown",
   "metadata": {},
   "source": [
    "# Mercredi 27 Mars :\n",
    "Le groupe ML est séparé en deux équipes en compétition\n",
    "- Création d'un réseau neuronal convolutif recréant une image à partir de plusieurs angles de vues\n",
    "- Création d'un réseau neuronal d'upscaling d'image"
   ]
  },
  {
   "cell_type": "markdown",
   "metadata": {},
   "source": [
    "# Mercredi 3 Avril :\n",
    "- La première hyperparamétrisation du réseau multi-angle a donné les résultats suivants :\n",
    "\t- optimizer : Adam\n",
    "\t- batch size : 2\n",
    "\t- loss : mean_squared_error\n",
    "\t- dense size : 1024\n",
    "- Implémentation de l'optimisateur L-BFGS\n",
    "- Implémentation d'une fonction de perte personnalisée"
   ]
  }
 ],
 "metadata": {
  "kernelspec": {
   "display_name": "Python 3",
   "language": "python",
   "name": "python3"
  },
  "language_info": {
   "codemirror_mode": {
    "name": "ipython",
    "version": 3
   },
   "file_extension": ".py",
   "mimetype": "text/x-python",
   "name": "python",
   "nbconvert_exporter": "python",
   "pygments_lexer": "ipython3",
   "version": "3.7.2"
  }
 },
 "nbformat": 4,
 "nbformat_minor": 1
}

